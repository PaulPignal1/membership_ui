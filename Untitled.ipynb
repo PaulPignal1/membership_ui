{
 "cells": [
  {
   "cell_type": "code",
   "execution_count": 33,
   "id": "8679dacf",
   "metadata": {
    "ExecuteTime": {
     "end_time": "2022-04-21T10:19:35.289163Z",
     "start_time": "2022-04-21T10:19:35.284464Z"
    }
   },
   "outputs": [],
   "source": [
    "import streamlit as st\n",
    "import pandas as pd\n",
    "import numpy as np\n",
    "import shutil\n",
    "import random"
   ]
  },
  {
   "cell_type": "code",
   "execution_count": 3,
   "id": "338fef92",
   "metadata": {
    "ExecuteTime": {
     "end_time": "2022-04-21T09:54:08.912489Z",
     "start_time": "2022-04-21T09:54:08.907818Z"
    }
   },
   "outputs": [],
   "source": [
    "path1='./test_UI_membership.csv'"
   ]
  },
  {
   "cell_type": "code",
   "execution_count": 46,
   "id": "cdb63b9d",
   "metadata": {
    "ExecuteTime": {
     "end_time": "2022-04-21T10:43:11.450456Z",
     "start_time": "2022-04-21T10:43:11.445713Z"
    }
   },
   "outputs": [],
   "source": [
    "col1=['uuid', 'name', 'network_id', 'partner_id_network','legal_id_agency', 'agency_phone_number']\n",
    "col2=['compared_uuid','compared_name', 'compared_network_id', 'compared_partner_id_network','compared_legal_id_agency', 'compared_agency_phone_number']"
   ]
  },
  {
   "cell_type": "code",
   "execution_count": 43,
   "id": "a0992039",
   "metadata": {
    "ExecuteTime": {
     "end_time": "2022-04-21T10:41:54.907817Z",
     "start_time": "2022-04-21T10:41:54.862537Z"
    }
   },
   "outputs": [],
   "source": [
    "df_init = pd.read_csv(path1, sep=',', header=0)\n",
    "df_final=pd.DataFrame(columns=['hashed_uuid', 'compared_id','duplicata'])"
   ]
  },
  {
   "cell_type": "code",
   "execution_count": null,
   "id": "3f443176",
   "metadata": {
    "ExecuteTime": {
     "end_time": "2022-04-21T10:38:26.173975Z",
     "start_time": "2022-04-21T10:38:26.119816Z"
    }
   },
   "outputs": [],
   "source": []
  },
  {
   "cell_type": "code",
   "execution_count": 77,
   "id": "0eaa9c18",
   "metadata": {
    "ExecuteTime": {
     "end_time": "2022-04-21T10:58:09.879303Z",
     "start_time": "2022-04-21T10:58:09.855932Z"
    }
   },
   "outputs": [],
   "source": [
    "def create_dataframe(df_init,df_final):\n",
    "    df_test=df_init[~df_init['hashed_uuid'].isin(set(df_final['hashed_uuid']))]\n",
    "    df_test['duplicata']=np.nan\n",
    "    uuid_select=random.choice(list(set(df_test['hashed_uuid'])))\n",
    "    df_sample=df_test[df_test['hashed_uuid']==uuid_select]\n",
    "    df1=df_sample[col1].drop_duplicates()\n",
    "    df2=df_sample[col2]\n",
    "    df2.columns=df2.columns.str.replace('compared_','')\n",
    "    df_total=pd.concat([df1,df2])\n",
    "    df_total['duplicata']=np.nan\n",
    "    return df_total"
   ]
  },
  {
   "cell_type": "code",
   "execution_count": 81,
   "id": "34448fd5",
   "metadata": {
    "ExecuteTime": {
     "end_time": "2022-04-21T14:27:35.048738Z",
     "start_time": "2022-04-21T14:27:35.020133Z"
    }
   },
   "outputs": [],
   "source": [
    "df_test=create_dataframe(df_init,df_final)"
   ]
  },
  {
   "cell_type": "code",
   "execution_count": 84,
   "id": "074d7885",
   "metadata": {
    "ExecuteTime": {
     "end_time": "2022-04-21T14:27:52.462631Z",
     "start_time": "2022-04-21T14:27:52.458440Z"
    }
   },
   "outputs": [],
   "source": [
    "df_test['duplicata']=1"
   ]
  },
  {
   "cell_type": "code",
   "execution_count": 85,
   "id": "f2fef872",
   "metadata": {
    "ExecuteTime": {
     "end_time": "2022-04-21T14:27:58.980402Z",
     "start_time": "2022-04-21T14:27:58.952318Z"
    }
   },
   "outputs": [
    {
     "data": {
      "text/html": [
       "<div>\n",
       "<style scoped>\n",
       "    .dataframe tbody tr th:only-of-type {\n",
       "        vertical-align: middle;\n",
       "    }\n",
       "\n",
       "    .dataframe tbody tr th {\n",
       "        vertical-align: top;\n",
       "    }\n",
       "\n",
       "    .dataframe thead th {\n",
       "        text-align: right;\n",
       "    }\n",
       "</style>\n",
       "<table border=\"1\" class=\"dataframe\">\n",
       "  <thead>\n",
       "    <tr style=\"text-align: right;\">\n",
       "      <th></th>\n",
       "      <th>uuid</th>\n",
       "      <th>name</th>\n",
       "      <th>network_id</th>\n",
       "      <th>partner_id_network</th>\n",
       "      <th>legal_id_agency</th>\n",
       "      <th>agency_phone_number</th>\n",
       "      <th>duplicata</th>\n",
       "    </tr>\n",
       "  </thead>\n",
       "  <tbody>\n",
       "    <tr>\n",
       "      <th>809</th>\n",
       "      <td>zeDh1HbcsEoVIiST</td>\n",
       "      <td>wimereux centre</td>\n",
       "      <td>7945.0</td>\n",
       "      <td>MSI011</td>\n",
       "      <td>NaN</td>\n",
       "      <td>3.332131e+10</td>\n",
       "      <td>1</td>\n",
       "    </tr>\n",
       "    <tr>\n",
       "      <th>809</th>\n",
       "      <td>ydaePtj5OqjUc0UR</td>\n",
       "      <td>wimereux dunes du golf</td>\n",
       "      <td>7945.0</td>\n",
       "      <td>SQU009</td>\n",
       "      <td>NaN</td>\n",
       "      <td>3.332111e+10</td>\n",
       "      <td>1</td>\n",
       "    </tr>\n",
       "    <tr>\n",
       "      <th>810</th>\n",
       "      <td>w5H7v5vx9JAMC6Vz</td>\n",
       "      <td>wingles</td>\n",
       "      <td>7945.0</td>\n",
       "      <td>IMM003</td>\n",
       "      <td>NaN</td>\n",
       "      <td>3.332137e+10</td>\n",
       "      <td>1</td>\n",
       "    </tr>\n",
       "    <tr>\n",
       "      <th>811</th>\n",
       "      <td>h40xtV9CeV7M6CGT</td>\n",
       "      <td>square habitat boulogne bo 62200</td>\n",
       "      <td>7945.0</td>\n",
       "      <td>SQU101</td>\n",
       "      <td>NaN</td>\n",
       "      <td>3.332131e+10</td>\n",
       "      <td>1</td>\n",
       "    </tr>\n",
       "    <tr>\n",
       "      <th>812</th>\n",
       "      <td>25jcPUXRgCoSW2VI</td>\n",
       "      <td>square habitat wingles 62410</td>\n",
       "      <td>7945.0</td>\n",
       "      <td>IMM003</td>\n",
       "      <td>NaN</td>\n",
       "      <td>3.332137e+10</td>\n",
       "      <td>1</td>\n",
       "    </tr>\n",
       "    <tr>\n",
       "      <th>813</th>\n",
       "      <td>sfPm6TdLUdibStjL</td>\n",
       "      <td>wormhout</td>\n",
       "      <td>7945.0</td>\n",
       "      <td>ARC064</td>\n",
       "      <td>NaN</td>\n",
       "      <td>3.332821e+10</td>\n",
       "      <td>1</td>\n",
       "    </tr>\n",
       "    <tr>\n",
       "      <th>814</th>\n",
       "      <td>RaITBSV2WsQeIKYK</td>\n",
       "      <td>orpi agence porte neuve wimereux wimereux 62930</td>\n",
       "      <td>4.0</td>\n",
       "      <td>73831</td>\n",
       "      <td>NaN</td>\n",
       "      <td>3.332131e+10</td>\n",
       "      <td>1</td>\n",
       "    </tr>\n",
       "    <tr>\n",
       "      <th>815</th>\n",
       "      <td>jWdRmZNNUTZLMbZm</td>\n",
       "      <td>wattrelos</td>\n",
       "      <td>7945.0</td>\n",
       "      <td>IMM033</td>\n",
       "      <td>NaN</td>\n",
       "      <td>3.332066e+10</td>\n",
       "      <td>1</td>\n",
       "    </tr>\n",
       "    <tr>\n",
       "      <th>816</th>\n",
       "      <td>Nd59U76TVHJ1wQEN</td>\n",
       "      <td>villeneuve d'ascq le sart</td>\n",
       "      <td>7945.0</td>\n",
       "      <td>ARC043</td>\n",
       "      <td>NaN</td>\n",
       "      <td>3.332099e+10</td>\n",
       "      <td>1</td>\n",
       "    </tr>\n",
       "    <tr>\n",
       "      <th>817</th>\n",
       "      <td>SQI5uJVwiCjBW5Tr</td>\n",
       "      <td>marcq en baroeul saint vincent</td>\n",
       "      <td>7945.0</td>\n",
       "      <td>ARC027</td>\n",
       "      <td>NaN</td>\n",
       "      <td>3.332082e+10</td>\n",
       "      <td>1</td>\n",
       "    </tr>\n",
       "    <tr>\n",
       "      <th>818</th>\n",
       "      <td>fKDvWNxhDyawNzDX</td>\n",
       "      <td>square habitat wimereux centre 62930</td>\n",
       "      <td>7945.0</td>\n",
       "      <td>MSI011</td>\n",
       "      <td>NaN</td>\n",
       "      <td>3.332131e+10</td>\n",
       "      <td>1</td>\n",
       "    </tr>\n",
       "    <tr>\n",
       "      <th>819</th>\n",
       "      <td>v6aXvb1qibdVjsxp</td>\n",
       "      <td>valenciennes centre</td>\n",
       "      <td>7945.0</td>\n",
       "      <td>MSI008</td>\n",
       "      <td>NaN</td>\n",
       "      <td>3.332752e+10</td>\n",
       "      <td>1</td>\n",
       "    </tr>\n",
       "    <tr>\n",
       "      <th>820</th>\n",
       "      <td>vf9GR3VbKpvDwVT5</td>\n",
       "      <td>boulogne bo</td>\n",
       "      <td>7945.0</td>\n",
       "      <td>SQU101</td>\n",
       "      <td>NaN</td>\n",
       "      <td>3.332131e+10</td>\n",
       "      <td>1</td>\n",
       "    </tr>\n",
       "  </tbody>\n",
       "</table>\n",
       "</div>"
      ],
      "text/plain": [
       "                 uuid                                             name  \\\n",
       "809  zeDh1HbcsEoVIiST                                  wimereux centre   \n",
       "809  ydaePtj5OqjUc0UR                           wimereux dunes du golf   \n",
       "810  w5H7v5vx9JAMC6Vz                                          wingles   \n",
       "811  h40xtV9CeV7M6CGT                 square habitat boulogne bo 62200   \n",
       "812  25jcPUXRgCoSW2VI                     square habitat wingles 62410   \n",
       "813  sfPm6TdLUdibStjL                                         wormhout   \n",
       "814  RaITBSV2WsQeIKYK  orpi agence porte neuve wimereux wimereux 62930   \n",
       "815  jWdRmZNNUTZLMbZm                                        wattrelos   \n",
       "816  Nd59U76TVHJ1wQEN                        villeneuve d'ascq le sart   \n",
       "817  SQI5uJVwiCjBW5Tr                   marcq en baroeul saint vincent   \n",
       "818  fKDvWNxhDyawNzDX             square habitat wimereux centre 62930   \n",
       "819  v6aXvb1qibdVjsxp                              valenciennes centre   \n",
       "820  vf9GR3VbKpvDwVT5                                      boulogne bo   \n",
       "\n",
       "     network_id partner_id_network  legal_id_agency  agency_phone_number  \\\n",
       "809      7945.0             MSI011              NaN         3.332131e+10   \n",
       "809      7945.0             SQU009              NaN         3.332111e+10   \n",
       "810      7945.0             IMM003              NaN         3.332137e+10   \n",
       "811      7945.0             SQU101              NaN         3.332131e+10   \n",
       "812      7945.0             IMM003              NaN         3.332137e+10   \n",
       "813      7945.0             ARC064              NaN         3.332821e+10   \n",
       "814         4.0              73831              NaN         3.332131e+10   \n",
       "815      7945.0             IMM033              NaN         3.332066e+10   \n",
       "816      7945.0             ARC043              NaN         3.332099e+10   \n",
       "817      7945.0             ARC027              NaN         3.332082e+10   \n",
       "818      7945.0             MSI011              NaN         3.332131e+10   \n",
       "819      7945.0             MSI008              NaN         3.332752e+10   \n",
       "820      7945.0             SQU101              NaN         3.332131e+10   \n",
       "\n",
       "     duplicata  \n",
       "809          1  \n",
       "809          1  \n",
       "810          1  \n",
       "811          1  \n",
       "812          1  \n",
       "813          1  \n",
       "814          1  \n",
       "815          1  \n",
       "816          1  \n",
       "817          1  \n",
       "818          1  \n",
       "819          1  \n",
       "820          1  "
      ]
     },
     "execution_count": 85,
     "metadata": {},
     "output_type": "execute_result"
    }
   ],
   "source": [
    "df_test"
   ]
  },
  {
   "cell_type": "code",
   "execution_count": 8,
   "id": "098be5aa",
   "metadata": {
    "ExecuteTime": {
     "end_time": "2022-04-21T09:54:59.758035Z",
     "start_time": "2022-04-21T09:54:59.705311Z"
    },
    "scrolled": false
   },
   "outputs": [
    {
     "data": {
      "text/plain": [
       "(                 uuid     name  network_id partner_id_network  \\\n",
       " 674  ejsi7z7T6yRShYyZ  mouvaux        7945             ARC029   \n",
       " \n",
       "      legal_id_agency  agency_phone_number  \n",
       " 674              NaN          33320262222  ,\n",
       "         compared_uuid    compared_name  compared_network_id  \\\n",
       " 674  LPpMcVsTRQSMDBEL  mons en baroeul               7945.0   \n",
       " \n",
       "     compared_partner_id_network  compared_legal_id_agency  \\\n",
       " 674                      IMM018                       NaN   \n",
       " \n",
       "      compared_agency_phone_number  \n",
       " 674                  3.332048e+10  )"
      ]
     },
     "execution_count": 8,
     "metadata": {},
     "output_type": "execute_result"
    }
   ],
   "source": [
    "create_dataframe(path1)"
   ]
  },
  {
   "cell_type": "code",
   "execution_count": 10,
   "id": "00ca7701",
   "metadata": {
    "ExecuteTime": {
     "end_time": "2022-04-21T10:07:32.457368Z",
     "start_time": "2022-04-21T10:07:32.430689Z"
    }
   },
   "outputs": [],
   "source": [
    "df=pd.read_csv(path1, sep=',', header=0)"
   ]
  },
  {
   "cell_type": "code",
   "execution_count": 22,
   "id": "21f902de",
   "metadata": {
    "ExecuteTime": {
     "end_time": "2022-04-21T10:09:37.760554Z",
     "start_time": "2022-04-21T10:09:37.754664Z"
    }
   },
   "outputs": [
    {
     "data": {
      "text/plain": [
       "'1add574c56535a743406c47bfe7d52fd'"
      ]
     },
     "execution_count": 22,
     "metadata": {},
     "output_type": "execute_result"
    }
   ],
   "source": []
  },
  {
   "cell_type": "code",
   "execution_count": 4,
   "id": "29d04c5d",
   "metadata": {
    "ExecuteTime": {
     "end_time": "2022-04-19T15:23:49.068828Z",
     "start_time": "2022-04-19T15:23:49.025844Z"
    }
   },
   "outputs": [
    {
     "data": {
      "text/html": [
       "<div>\n",
       "<style scoped>\n",
       "    .dataframe tbody tr th:only-of-type {\n",
       "        vertical-align: middle;\n",
       "    }\n",
       "\n",
       "    .dataframe tbody tr th {\n",
       "        vertical-align: top;\n",
       "    }\n",
       "\n",
       "    .dataframe thead th {\n",
       "        text-align: right;\n",
       "    }\n",
       "</style>\n",
       "<table border=\"1\" class=\"dataframe\">\n",
       "  <thead>\n",
       "    <tr style=\"text-align: right;\">\n",
       "      <th></th>\n",
       "      <th>hashed_uuid</th>\n",
       "      <th>compared_id</th>\n",
       "      <th>mean_distance</th>\n",
       "      <th>number_of_occurence</th>\n",
       "      <th>effect_size</th>\n",
       "      <th>uuid</th>\n",
       "      <th>name</th>\n",
       "      <th>network_id</th>\n",
       "      <th>partner_id_network</th>\n",
       "      <th>legal_id_agency</th>\n",
       "      <th>agency_phone_number</th>\n",
       "      <th>compared_uuid</th>\n",
       "      <th>compared_name</th>\n",
       "      <th>compared_network_id</th>\n",
       "      <th>compared_partner_id_network</th>\n",
       "      <th>compared_legal_id_agency</th>\n",
       "      <th>compared_agency_phone_number</th>\n",
       "      <th>match_partner_id</th>\n",
       "      <th>match_legal_id_agency</th>\n",
       "      <th>match_phone_number</th>\n",
       "    </tr>\n",
       "  </thead>\n",
       "  <tbody>\n",
       "    <tr>\n",
       "      <th>569</th>\n",
       "      <td>05a52e4ac203184b9230b9b7a248445a</td>\n",
       "      <td>ca80477e658f290539d92b37f98d6b09</td>\n",
       "      <td>0.0</td>\n",
       "      <td>5</td>\n",
       "      <td>0.089286</td>\n",
       "      <td>mHgEKMC67IULCCNp</td>\n",
       "      <td>merignies</td>\n",
       "      <td>7945</td>\n",
       "      <td>SQU008</td>\n",
       "      <td>NaN</td>\n",
       "      <td>33320081315</td>\n",
       "      <td>q4pyBg3kWxQKyfB2</td>\n",
       "      <td>tourcoing roosevelt</td>\n",
       "      <td>7945.0</td>\n",
       "      <td>ARC040</td>\n",
       "      <td>NaN</td>\n",
       "      <td>3.332028e+10</td>\n",
       "      <td>0</td>\n",
       "      <td>0</td>\n",
       "      <td>0</td>\n",
       "    </tr>\n",
       "  </tbody>\n",
       "</table>\n",
       "</div>"
      ],
      "text/plain": [
       "                          hashed_uuid                       compared_id  \\\n",
       "569  05a52e4ac203184b9230b9b7a248445a  ca80477e658f290539d92b37f98d6b09   \n",
       "\n",
       "     mean_distance  number_of_occurence  effect_size              uuid  \\\n",
       "569            0.0                    5     0.089286  mHgEKMC67IULCCNp   \n",
       "\n",
       "          name  network_id partner_id_network  legal_id_agency  \\\n",
       "569  merignies        7945             SQU008              NaN   \n",
       "\n",
       "     agency_phone_number     compared_uuid        compared_name  \\\n",
       "569          33320081315  q4pyBg3kWxQKyfB2  tourcoing roosevelt   \n",
       "\n",
       "     compared_network_id compared_partner_id_network  \\\n",
       "569               7945.0                      ARC040   \n",
       "\n",
       "     compared_legal_id_agency  compared_agency_phone_number  match_partner_id  \\\n",
       "569                       NaN                  3.332028e+10                 0   \n",
       "\n",
       "     match_legal_id_agency  match_phone_number  \n",
       "569                      0                   0  "
      ]
     },
     "execution_count": 4,
     "metadata": {},
     "output_type": "execute_result"
    }
   ],
   "source": [
    "df.sample()"
   ]
  },
  {
   "cell_type": "code",
   "execution_count": 5,
   "id": "48cee106",
   "metadata": {
    "ExecuteTime": {
     "end_time": "2022-04-19T15:24:09.625250Z",
     "start_time": "2022-04-19T15:24:09.608765Z"
    }
   },
   "outputs": [
    {
     "data": {
      "text/plain": [
       "Index(['hashed_uuid', 'compared_id', 'mean_distance', 'number_of_occurence',\n",
       "       'effect_size', 'uuid', 'name', 'network_id', 'partner_id_network',\n",
       "       'legal_id_agency', 'agency_phone_number', 'compared_uuid',\n",
       "       'compared_name', 'compared_network_id', 'compared_partner_id_network',\n",
       "       'compared_legal_id_agency', 'compared_agency_phone_number',\n",
       "       'match_partner_id', 'match_legal_id_agency', 'match_phone_number'],\n",
       "      dtype='object')"
      ]
     },
     "execution_count": 5,
     "metadata": {},
     "output_type": "execute_result"
    }
   ],
   "source": [
    "df.columns"
   ]
  },
  {
   "cell_type": "code",
   "execution_count": 8,
   "id": "c55f5281",
   "metadata": {
    "ExecuteTime": {
     "end_time": "2022-04-19T15:32:19.007843Z",
     "start_time": "2022-04-19T15:32:18.989943Z"
    }
   },
   "outputs": [
    {
     "data": {
      "text/plain": [
       "['hashed_uuid',\n",
       " 'compared_id',\n",
       " 'mean_distance',\n",
       " 'number_of_occurence',\n",
       " 'effect_size',\n",
       " 'match_partner_id',\n",
       " 'match_legal_id_agency',\n",
       " 'match_phone_number']"
      ]
     },
     "execution_count": 8,
     "metadata": {},
     "output_type": "execute_result"
    }
   ],
   "source": [
    "[i for i in df.columns if i not in col1 and i not in col2]"
   ]
  },
  {
   "cell_type": "code",
   "execution_count": 10,
   "id": "05f76f8e",
   "metadata": {
    "ExecuteTime": {
     "end_time": "2022-04-19T15:34:23.910362Z",
     "start_time": "2022-04-19T15:34:23.886371Z"
    }
   },
   "outputs": [
    {
     "data": {
      "text/html": [
       "<div>\n",
       "<style scoped>\n",
       "    .dataframe tbody tr th:only-of-type {\n",
       "        vertical-align: middle;\n",
       "    }\n",
       "\n",
       "    .dataframe tbody tr th {\n",
       "        vertical-align: top;\n",
       "    }\n",
       "\n",
       "    .dataframe thead th {\n",
       "        text-align: right;\n",
       "    }\n",
       "</style>\n",
       "<table border=\"1\" class=\"dataframe\">\n",
       "  <thead>\n",
       "    <tr style=\"text-align: right;\">\n",
       "      <th></th>\n",
       "      <th>uuid</th>\n",
       "      <th>name</th>\n",
       "      <th>network_id</th>\n",
       "      <th>partner_id_network</th>\n",
       "      <th>legal_id_agency</th>\n",
       "      <th>agency_phone_number</th>\n",
       "    </tr>\n",
       "  </thead>\n",
       "  <tbody>\n",
       "    <tr>\n",
       "      <th>698</th>\n",
       "      <td>w5H7v5vx9JAMC6Vz</td>\n",
       "      <td>wingles</td>\n",
       "      <td>7945</td>\n",
       "      <td>IMM003</td>\n",
       "      <td>NaN</td>\n",
       "      <td>33321370000</td>\n",
       "    </tr>\n",
       "  </tbody>\n",
       "</table>\n",
       "</div>"
      ],
      "text/plain": [
       "                 uuid     name  network_id partner_id_network  \\\n",
       "698  w5H7v5vx9JAMC6Vz  wingles        7945             IMM003   \n",
       "\n",
       "     legal_id_agency  agency_phone_number  \n",
       "698              NaN          33321370000  "
      ]
     },
     "execution_count": 10,
     "metadata": {},
     "output_type": "execute_result"
    }
   ],
   "source": [
    "df.sample()[col1]"
   ]
  },
  {
   "cell_type": "code",
   "execution_count": 11,
   "id": "d7f38e8c",
   "metadata": {
    "ExecuteTime": {
     "end_time": "2022-04-19T15:34:31.584783Z",
     "start_time": "2022-04-19T15:34:31.558130Z"
    }
   },
   "outputs": [
    {
     "data": {
      "text/html": [
       "<div>\n",
       "<style scoped>\n",
       "    .dataframe tbody tr th:only-of-type {\n",
       "        vertical-align: middle;\n",
       "    }\n",
       "\n",
       "    .dataframe tbody tr th {\n",
       "        vertical-align: top;\n",
       "    }\n",
       "\n",
       "    .dataframe thead th {\n",
       "        text-align: right;\n",
       "    }\n",
       "</style>\n",
       "<table border=\"1\" class=\"dataframe\">\n",
       "  <thead>\n",
       "    <tr style=\"text-align: right;\">\n",
       "      <th></th>\n",
       "      <th>compared_uuid</th>\n",
       "      <th>compared_name</th>\n",
       "      <th>compared_network_id</th>\n",
       "      <th>compared_partner_id_network</th>\n",
       "      <th>compared_legal_id_agency</th>\n",
       "      <th>compared_agency_phone_number</th>\n",
       "    </tr>\n",
       "  </thead>\n",
       "  <tbody>\n",
       "    <tr>\n",
       "      <th>456</th>\n",
       "      <td>yj1GHwNHEJ3HhleD</td>\n",
       "      <td>saint omer</td>\n",
       "      <td>7945.0</td>\n",
       "      <td>SQU001</td>\n",
       "      <td>NaN</td>\n",
       "      <td>3.332139e+10</td>\n",
       "    </tr>\n",
       "  </tbody>\n",
       "</table>\n",
       "</div>"
      ],
      "text/plain": [
       "        compared_uuid compared_name  compared_network_id  \\\n",
       "456  yj1GHwNHEJ3HhleD    saint omer               7945.0   \n",
       "\n",
       "    compared_partner_id_network  compared_legal_id_agency  \\\n",
       "456                      SQU001                       NaN   \n",
       "\n",
       "     compared_agency_phone_number  \n",
       "456                  3.332139e+10  "
      ]
     },
     "execution_count": 11,
     "metadata": {},
     "output_type": "execute_result"
    }
   ],
   "source": [
    "df.sample()[col2]"
   ]
  },
  {
   "cell_type": "code",
   "execution_count": null,
   "id": "3401e2ce",
   "metadata": {},
   "outputs": [],
   "source": []
  }
 ],
 "metadata": {
  "kernelspec": {
   "display_name": "Python 3 (ipykernel)",
   "language": "python",
   "name": "python3"
  },
  "language_info": {
   "codemirror_mode": {
    "name": "ipython",
    "version": 3
   },
   "file_extension": ".py",
   "mimetype": "text/x-python",
   "name": "python",
   "nbconvert_exporter": "python",
   "pygments_lexer": "ipython3",
   "version": "3.9.7"
  },
  "toc": {
   "base_numbering": 1,
   "nav_menu": {},
   "number_sections": true,
   "sideBar": true,
   "skip_h1_title": false,
   "title_cell": "Table of Contents",
   "title_sidebar": "Contents",
   "toc_cell": false,
   "toc_position": {},
   "toc_section_display": true,
   "toc_window_display": false
  }
 },
 "nbformat": 4,
 "nbformat_minor": 5
}
